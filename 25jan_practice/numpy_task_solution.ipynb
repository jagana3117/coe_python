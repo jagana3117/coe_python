{
 "cells": [
  {
   "cell_type": "code",
   "execution_count": 5,
   "id": "04418f70-4ef0-4582-8629-442c99b588fb",
   "metadata": {},
   "outputs": [
    {
     "name": "stdout",
     "output_type": "stream",
     "text": [
      "[10 11 12 13 14 15 16 17 18 19 20 21 22 23 24 25 26 27 28 29 30 31 32 33\n",
      " 34 35 36 37 38 39 40 41 42 43 44 45 46 47 48 49 50]\n"
     ]
    }
   ],
   "source": [
    "# 1.solution:\n",
    "import numpy as np\n",
    "arr=np.arange(10,51)\n",
    "print(arr)"
   ]
  },
  {
   "cell_type": "code",
   "execution_count": 7,
   "id": "c1f5339c-6434-4863-8048-18e66f3b0613",
   "metadata": {},
   "outputs": [
    {
     "name": "stdout",
     "output_type": "stream",
     "text": [
      "[[0.38366606 0.23726945 0.46324779]\n",
      " [0.65998847 0.17389267 0.99933128]\n",
      " [0.19648544 0.08775124 0.62769608]]\n"
     ]
    }
   ],
   "source": [
    "arr1=np.random.rand(3,3)\n",
    "print(arr1)"
   ]
  },
  {
   "cell_type": "code",
   "execution_count": 13,
   "id": "4f7056ac-3cc8-4939-b676-e52d5e082a40",
   "metadata": {},
   "outputs": [
    {
     "name": "stdout",
     "output_type": "stream",
     "text": [
      "array shape:  (3, 3)\n",
      "array size:  9\n",
      "array data type:  float64\n"
     ]
    }
   ],
   "source": [
    "#2.\tArray Attributes\n",
    "print('array shape: ',arr1.shape)\n",
    "print('array size: ',arr1.size)\n",
    "print('array data type: ',arr1.dtype)"
   ]
  },
  {
   "cell_type": "code",
   "execution_count": 19,
   "id": "28ff7577-0b4e-4438-85f9-d38938e073d8",
   "metadata": {},
   "outputs": [
    {
     "name": "stdout",
     "output_type": "stream",
     "text": [
      "[15 16 17 18 19 20 21 22 23 24 25 26 27 28 29 30 31 32 33 34 35 36 37 38\n",
      " 39 40 41 42 43 44 45 46 47 48 49 50 51 52 53 54 55]\n",
      "[[0.14719965 0.05629679 0.21459852]\n",
      " [0.43558478 0.03023866 0.998663  ]\n",
      " [0.03860653 0.00770028 0.39400237]]\n"
     ]
    }
   ],
   "source": [
    "#3.\tBasic Operations\n",
    "arr2=5+arr\n",
    "print(arr2)\n",
    "print(arr1*arr1)"
   ]
  },
  {
   "cell_type": "code",
   "execution_count": 27,
   "id": "6204cb2a-7463-4dde-b3be-5cb388904c94",
   "metadata": {},
   "outputs": [
    {
     "name": "stdout",
     "output_type": "stream",
     "text": [
      "[[ 1  2  3  4  5]\n",
      " [ 6  7  8  9 10]\n",
      " [11 12 13 14 15]\n",
      " [16 17 18 19 20]\n",
      " [21 22 23 24 25]]\n",
      "[[1 2 3 4 5]]\n"
     ]
    }
   ],
   "source": [
    "#4.\tIndexing and Slicing\n",
    "array=np.arange(1,26).reshape(5,5)\n",
    "print(array)\n"
   ]
  },
  {
   "cell_type": "code",
   "execution_count": 29,
   "id": "be4fa834-2314-4fbf-a1ea-01072dd6a52b",
   "metadata": {},
   "outputs": [
    {
     "name": "stdout",
     "output_type": "stream",
     "text": [
      "[[1 2 3 4 5]]\n"
     ]
    }
   ],
   "source": [
    "print(array[0:1,:])"
   ]
  },
  {
   "cell_type": "code",
   "execution_count": 33,
   "id": "f57db628-fc28-4e71-beb7-1cb674c843e7",
   "metadata": {},
   "outputs": [
    {
     "name": "stdout",
     "output_type": "stream",
     "text": [
      "[[21 22 23 24 25]]\n"
     ]
    }
   ],
   "source": [
    "print(array[4:5,:])"
   ]
  },
  {
   "cell_type": "code",
   "execution_count": 39,
   "id": "5c40202d-dde5-4273-a822-1efaff20f4be",
   "metadata": {},
   "outputs": [
    {
     "name": "stdout",
     "output_type": "stream",
     "text": [
      "[[ 1  2]\n",
      " [ 6  7]\n",
      " [11 12]]\n"
     ]
    }
   ],
   "source": [
    "print(array[0:3,0:2])"
   ]
  },
  {
   "cell_type": "code",
   "execution_count": 63,
   "id": "718f847c-3017-430e-9929-a7925af6abcf",
   "metadata": {},
   "outputs": [
    {
     "name": "stdout",
     "output_type": "stream",
     "text": [
      "[77 97 50 57 34 46 83 17 55 72]\n",
      "max value:  97\n",
      "min value:  17\n",
      "mean value:  58.8\n",
      "standard deviation value:  22.741152125607005\n"
     ]
    }
   ],
   "source": [
    "#5.Aggregation\n",
    "ar=np.random.randint(1,100,10)\n",
    "print(ar)\n",
    "print('max value: ',np.max(ar))\n",
    "print('min value: ',np.min(ar))\n",
    "print('mean value: ',np.mean(ar))\n",
    "print('standard deviation value: ',np.std(ar))"
   ]
  },
  {
   "cell_type": "code",
   "execution_count": 73,
   "id": "69a898dc-7a1d-45eb-9f58-d0d416cbf171",
   "metadata": {},
   "outputs": [
    {
     "name": "stdout",
     "output_type": "stream",
     "text": [
      "[ 1  2  3  4  5  6  7  8  9 10 11 12]\n",
      "after reshaping\n",
      "[[ 1  2  3  4]\n",
      " [ 5  6  7  8]\n",
      " [ 9 10 11 12]]\n"
     ]
    }
   ],
   "source": [
    "#6.\tReshaping\n",
    "arr=np.arange(1,13)\n",
    "print(arr)\n",
    "print('after reshaping')\n",
    "arr1=arr.reshape(3,4)\n",
    "print(arr1)"
   ]
  },
  {
   "cell_type": "code",
   "execution_count": 91,
   "id": "43087e5b-f8de-45dc-8812-356cb60a4a7e",
   "metadata": {},
   "outputs": [
    {
     "name": "stdout",
     "output_type": "stream",
     "text": [
      "[[1. 1. 1.]\n",
      " [1. 1. 1.]\n",
      " [1. 1. 1.]]\n",
      "sum:\n",
      "[[2. 3. 4.]\n",
      " [2. 3. 4.]\n",
      " [2. 3. 4.]]\n"
     ]
    }
   ],
   "source": [
    "#7.\tBroadcasting\n",
    "ones=np.ones(9)\n",
    "ar=ones.reshape(3,3)\n",
    "print(ar)\n",
    "# np.ones((3,3)) is also correct\n",
    "array=[1,2,3]\n",
    "print('sum:')\n",
    "print(ar+array)"
   ]
  },
  {
   "cell_type": "code",
   "execution_count": 113,
   "id": "3368b460-5bcf-4181-9050-3699e8cdfbf3",
   "metadata": {},
   "outputs": [
    {
     "name": "stdout",
     "output_type": "stream",
     "text": [
      "[ 1  2  3  4  5  6  7  8  9 10 11 12 13 14 15 16 17 18 19 20 21 22 23 24\n",
      " 25 26 27 28 29 30 31 32 33 34 35 36 37 38 39 40 41 42 43 44 45 46 47 48\n",
      " 49 50]\n",
      "divisible by 5:\n",
      "5\n",
      "10\n",
      "15\n",
      "20\n",
      "25\n",
      "30\n",
      "35\n",
      "40\n",
      "45\n",
      "50\n"
     ]
    }
   ],
   "source": [
    "#8.\tFiltering\n",
    "ra=np.arange(1,51)\n",
    "print(ra)\n",
    "print('divisible by 5:')\n",
    "for i in ra:\n",
    "    if i%5==0:\n",
    "        result=ra[i-1]\n",
    "        print(result)"
   ]
  },
  {
   "cell_type": "code",
   "execution_count": 131,
   "id": "211cbdbf-6a5d-4dee-beac-03109468510d",
   "metadata": {},
   "outputs": [
    {
     "name": "stdout",
     "output_type": "stream",
     "text": [
      "multiplication: \n",
      " [[319 193 313]\n",
      " [181 249 243]\n",
      " [433 421 471]]\n"
     ]
    }
   ],
   "source": [
    "#9.\tMatrix Multiplication\n",
    "arr1=np.random.randint(1,20,(3,3))\n",
    "arr2=np.random.randint(1,15,(3,3))\n",
    "print('multiplication: \\n',np.dot(arr1,arr2))"
   ]
  },
  {
   "cell_type": "code",
   "execution_count": 147,
   "id": "099d177a-6624-4eff-b44d-5764ae808304",
   "metadata": {},
   "outputs": [
    {
     "name": "stdout",
     "output_type": "stream",
     "text": [
      "[[12  6 17 16]\n",
      " [18 12 16 10]\n",
      " [ 8  8  5 13]\n",
      " [ 8  4  1  5]]\n",
      "diagonal_elements: \n",
      " [12 12  5  5]\n"
     ]
    }
   ],
   "source": [
    "#10.Advanced Indexing\n",
    "arr3=np.random.randint(1,20,(4,4))\n",
    "print(arr3)\n",
    "# diagonal_elements=np.diagonal(arr3)\n",
    "# print('diagonal_elements: \\n',diagonal_elements)\n",
    "rows=np.array([0,1,2,3])\n",
    "cols=np.array([0,1,2,3])\n",
    "de=arr3[rows,cols]\n",
    "print('diagonal_elements: \\n',de)"
   ]
  },
  {
   "cell_type": "code",
   "execution_count": null,
   "id": "01cad5e9-dfd2-4b66-8604-50898506ea20",
   "metadata": {},
   "outputs": [],
   "source": []
  }
 ],
 "metadata": {
  "kernelspec": {
   "display_name": "Python [conda env:base] *",
   "language": "python",
   "name": "conda-base-py"
  },
  "language_info": {
   "codemirror_mode": {
    "name": "ipython",
    "version": 3
   },
   "file_extension": ".py",
   "mimetype": "text/x-python",
   "name": "python",
   "nbconvert_exporter": "python",
   "pygments_lexer": "ipython3",
   "version": "3.12.7"
  }
 },
 "nbformat": 4,
 "nbformat_minor": 5
}
