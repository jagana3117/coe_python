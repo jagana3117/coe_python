{
 "cells": [
  {
   "cell_type": "code",
   "execution_count": null,
   "id": "6e433376-ce5b-4823-9569-f9af9be0b7dc",
   "metadata": {},
   "outputs": [],
   "source": [
    "'''NUMPY:\n",
    "->numerical array\n",
    "->fast and speed"
   ]
  },
  {
   "cell_type": "code",
   "execution_count": 12,
   "id": "c7efd235-1b68-4348-b83c-4f97e5593540",
   "metadata": {},
   "outputs": [
    {
     "name": "stdout",
     "output_type": "stream",
     "text": [
      "Requirement already satisfied: numpy in c:\\users\\proxy1\\anaconda3\\lib\\site-packages (1.26.4)\n",
      "Note: you may need to restart the kernel to use updated packages.\n"
     ]
    }
   ],
   "source": [
    "pip install numpy\n"
   ]
  },
  {
   "cell_type": "code",
   "execution_count": 16,
   "id": "a2c57a2e-c2e9-4c5f-87d5-7c13f324bd32",
   "metadata": {},
   "outputs": [
    {
     "name": "stdout",
     "output_type": "stream",
     "text": [
      "[1 2 3]\n",
      "[[1 2 3]\n",
      " [4 5 6]]\n"
     ]
    }
   ],
   "source": [
    "import numpy as np\n",
    "\n",
    "arr_1d=np.array([1,2,3])\n",
    "print(arr_1d)\n",
    "arr_2d=np.array([[1,2,3],[4,5,6]])\n",
    "print(arr_2d)"
   ]
  },
  {
   "cell_type": "code",
   "execution_count": 24,
   "id": "4b110eea-8b1e-4b5a-97b3-6ea9bd34c065",
   "metadata": {},
   "outputs": [
    {
     "data": {
      "text/plain": [
       "array([[0., 0., 0.],\n",
       "       [0., 0., 0.],\n",
       "       [0., 0., 0.]])"
      ]
     },
     "execution_count": 24,
     "metadata": {},
     "output_type": "execute_result"
    }
   ],
   "source": [
    "arr=np.zeros((3,3))\n",
    "arr"
   ]
  },
  {
   "cell_type": "code",
   "execution_count": 26,
   "id": "1f16a9e8-d1ed-4c88-b8ec-17725739078b",
   "metadata": {},
   "outputs": [
    {
     "data": {
      "text/plain": [
       "array([[1., 1., 1.],\n",
       "       [1., 1., 1.],\n",
       "       [1., 1., 1.]])"
      ]
     },
     "execution_count": 26,
     "metadata": {},
     "output_type": "execute_result"
    }
   ],
   "source": [
    "arr=np.ones((3,3))\n",
    "arr"
   ]
  },
  {
   "cell_type": "code",
   "execution_count": 30,
   "id": "070bd1ae-5186-4be8-99c4-9c709546ab5b",
   "metadata": {},
   "outputs": [
    {
     "data": {
      "text/plain": [
       "array([[0.46352586, 0.57832926, 0.77222958],\n",
       "       [0.46706193, 0.85645141, 0.05137711]])"
      ]
     },
     "execution_count": 30,
     "metadata": {},
     "output_type": "execute_result"
    }
   ],
   "source": [
    "random_arr=np.random.random((2,3))\n",
    "random_arr"
   ]
  },
  {
   "cell_type": "code",
   "execution_count": 34,
   "id": "b4e2d7f7-0459-4d95-8173-6eb53ac37c90",
   "metadata": {},
   "outputs": [
    {
     "data": {
      "text/plain": [
       "array([[1., 0., 0., 0.],\n",
       "       [0., 1., 0., 0.],\n",
       "       [0., 0., 1., 0.]])"
      ]
     },
     "execution_count": 34,
     "metadata": {},
     "output_type": "execute_result"
    }
   ],
   "source": [
    "i=np.eye(3,4)\n",
    "i"
   ]
  },
  {
   "cell_type": "code",
   "execution_count": 42,
   "id": "cd0326cb-f4d5-4fb6-8953-ae61f6315216",
   "metadata": {},
   "outputs": [
    {
     "name": "stdout",
     "output_type": "stream",
     "text": [
      "[0 2 4 6 8]\n"
     ]
    }
   ],
   "source": [
    "range_arr=np.arange(0,10,2)\n",
    "print (range_arr)"
   ]
  },
  {
   "cell_type": "raw",
   "id": "9020511a-5676-4369-bd9a-21f248606a60",
   "metadata": {},
   "source": [
    "arr_2d=np.array([[1,2,3],[4,5,6]])\n"
   ]
  },
  {
   "cell_type": "code",
   "execution_count": 52,
   "id": "45f4a9e9-d64c-4dde-a504-3eb68c2afc3b",
   "metadata": {},
   "outputs": [
    {
     "name": "stdout",
     "output_type": "stream",
     "text": [
      "shape: (2, 3)\n",
      "dimension: 2\n",
      "size: 6\n",
      "dtype : int32\n"
     ]
    }
   ],
   "source": [
    "arr=np.array([[1,2,3],[4,5,6]])\n",
    "print('shape:',arr.shape)\n",
    "print('dimension:',arr.ndim)\n",
    "print('size:',arr.size)\n",
    "print('dtype :' ,arr.dtype)"
   ]
  },
  {
   "cell_type": "code",
   "execution_count": 54,
   "id": "16a5f581-a8d7-409d-830e-ff5aabeef777",
   "metadata": {},
   "outputs": [
    {
     "name": "stdout",
     "output_type": "stream",
     "text": [
      "2\n"
     ]
    }
   ],
   "source": [
    "print(arr[0,1])"
   ]
  },
  {
   "cell_type": "code",
   "execution_count": 56,
   "id": "373844ce-5832-4cea-8371-1694639b82d1",
   "metadata": {},
   "outputs": [
    {
     "name": "stdout",
     "output_type": "stream",
     "text": [
      "6\n"
     ]
    }
   ],
   "source": [
    "print(arr[1,2])"
   ]
  },
  {
   "cell_type": "code",
   "execution_count": 58,
   "id": "356d126a-a7dc-42e1-be8e-f103f5aa31c9",
   "metadata": {},
   "outputs": [
    {
     "name": "stdout",
     "output_type": "stream",
     "text": [
      "6\n"
     ]
    }
   ],
   "source": [
    "print(arr[1,-1])"
   ]
  },
  {
   "cell_type": "code",
   "execution_count": 72,
   "id": "2ee50dfa-0671-42af-a9c6-29ba931ba759",
   "metadata": {},
   "outputs": [
    {
     "data": {
      "text/plain": [
       "array([[2, 3],\n",
       "       [5, 6]])"
      ]
     },
     "execution_count": 72,
     "metadata": {},
     "output_type": "execute_result"
    }
   ],
   "source": [
    " arr[:, 1:]"
   ]
  },
  {
   "cell_type": "code",
   "execution_count": 78,
   "id": "21939f0b-652e-4f3a-be62-5c2a20f5dc6b",
   "metadata": {},
   "outputs": [
    {
     "name": "stdout",
     "output_type": "stream",
     "text": [
      "[ 6  8 10]\n"
     ]
    },
    {
     "data": {
      "text/plain": [
       "array([ 6,  8, 10])"
      ]
     },
     "execution_count": 78,
     "metadata": {},
     "output_type": "execute_result"
    }
   ],
   "source": [
    "arr1=np.array([1,2,3])\n",
    "arr2=np.array([5,6,7])\n",
    "print(arr1+arr2)\n",
    "np.add(arr1,arr2)"
   ]
  },
  {
   "cell_type": "code",
   "execution_count": 80,
   "id": "407b7666-004d-43ad-8c83-749793008981",
   "metadata": {},
   "outputs": [
    {
     "data": {
      "text/plain": [
       "array([ 5, 12, 21])"
      ]
     },
     "execution_count": 80,
     "metadata": {},
     "output_type": "execute_result"
    }
   ],
   "source": [
    "arr1*arr2"
   ]
  },
  {
   "cell_type": "code",
   "execution_count": 86,
   "id": "6f9e64b6-7717-4241-a021-7a53e1285635",
   "metadata": {},
   "outputs": [
    {
     "data": {
      "text/plain": [
       "array([[ 10,  40,  90],\n",
       "       [160, 250, 360],\n",
       "       [490, 640, 810]])"
      ]
     },
     "execution_count": 86,
     "metadata": {},
     "output_type": "execute_result"
    }
   ],
   "source": [
    "a=np.array([[1,2,3],[4,5,6],[7,8,9]])\n",
    "b=np.array([[10,20,30],[40,50,60],[70,80,90]])\n",
    "a*b"
   ]
  },
  {
   "cell_type": "code",
   "execution_count": 88,
   "id": "71a6c06b-fe58-45f3-a3dd-41cc084d9a44",
   "metadata": {},
   "outputs": [
    {
     "data": {
      "text/plain": [
       "array([[ 300,  360,  420],\n",
       "       [ 660,  810,  960],\n",
       "       [1020, 1260, 1500]])"
      ]
     },
     "execution_count": 88,
     "metadata": {},
     "output_type": "execute_result"
    }
   ],
   "source": [
    "result=np.dot(a,b)"
   ]
  },
  {
   "cell_type": "code",
   "execution_count": 100,
   "id": "2e13cc81-106c-4655-bb2c-41a3b61727cb",
   "metadata": {},
   "outputs": [
    {
     "data": {
      "text/plain": [
       "[<matplotlib.lines.Line2D at 0x26aad6776e0>,\n",
       " <matplotlib.lines.Line2D at 0x26aad6775c0>,\n",
       " <matplotlib.lines.Line2D at 0x26aad6764e0>]"
      ]
     },
     "execution_count": 100,
     "metadata": {},
     "output_type": "execute_result"
    },
    {
     "data": {
      "image/png": "[encoded data removed]",
      "text/plain": [
       "<Figure size 640x480 with 1 Axes>"
      ]
     },
     "metadata": {},
     "output_type": "display_data"
    }
   ],
   "source": [
    "import matplotlib.pyplot as plt\n",
    "plt.plot(a,b)"
   ]
  },
  {
   "cell_type": "code",
   "execution_count": 104,
   "id": "f8aae703-3479-4d44-9b78-52d0217514a9",
   "metadata": {},
   "outputs": [
    {
     "name": "stdout",
     "output_type": "stream",
     "text": [
      "[1.48413159e+02 1.62754791e+05 1.31881573e+09]\n"
     ]
    }
   ],
   "source": [
    "arr1=np.array([ 5, 12, 21])\n",
    "print(np.exp(arr1))"
   ]
  },
  {
   "cell_type": "code",
   "execution_count": 112,
   "id": "681297e2-b6a0-4f86-bbf9-a3c7d0ca258b",
   "metadata": {},
   "outputs": [
    {
     "name": "stdout",
     "output_type": "stream",
     "text": [
      "[[1.         1.41421356 1.73205081]\n",
      " [2.         2.23606798 2.44948974]]\n"
     ]
    }
   ],
   "source": [
    "print(np.sqrt(arr))"
   ]
  },
  {
   "cell_type": "code",
   "execution_count": 114,
   "id": "314212dc-716f-4672-9ce5-bdd723210408",
   "metadata": {},
   "outputs": [
    {
     "name": "stdout",
     "output_type": "stream",
     "text": [
      "[[0.         0.69314718 1.09861229]\n",
      " [1.38629436 1.60943791 1.79175947]]\n"
     ]
    }
   ],
   "source": [
    "print(np.log(arr))"
   ]
  },
  {
   "cell_type": "code",
   "execution_count": 116,
   "id": "a544dd0e-aa3f-43a5-ab54-f8526690aa4d",
   "metadata": {},
   "outputs": [
    {
     "name": "stdout",
     "output_type": "stream",
     "text": [
      "sum: 21\n",
      "mean: 3.5\n",
      "sd: 1.707825127659933\n",
      "max: 6\n",
      "min: 1\n"
     ]
    }
   ],
   "source": [
    "print('sum:',np.sum(arr))\n",
    "print('mean:',np.mean(arr))\n",
    "print('sd:',np.std(arr))\n",
    "print('max:',np.max(arr))\n",
    "print('min:',np.min(arr))"
   ]
  },
  {
   "cell_type": "code",
   "execution_count": 118,
   "id": "8d9c976b-0679-4c00-877e-85b41e3957f6",
   "metadata": {},
   "outputs": [
    {
     "data": {
      "text/plain": [
       "array([[1, 2, 3],\n",
       "       [4, 5, 6]])"
      ]
     },
     "execution_count": 118,
     "metadata": {},
     "output_type": "execute_result"
    }
   ],
   "source": [
    "arr=np.array([1,2,3,4,5,6])\n",
    "reshaped=arr.reshape(2,3)\n",
    "reshaped"
   ]
  },
  {
   "cell_type": "code",
   "execution_count": 120,
   "id": "617385f2-0b46-49c0-83b0-d77fd929d66c",
   "metadata": {},
   "outputs": [
    {
     "name": "stdout",
     "output_type": "stream",
     "text": [
      "[[1 2]\n",
      " [4 5]]\n",
      "[1 2 4 5]\n"
     ]
    }
   ],
   "source": [
    "a=np.array([1,2])\n",
    "b=np.array([4,5])\n",
    "print(np.vstack((a,b)))\n",
    "print(np.hstack((a,b)))"
   ]
  },
  {
   "cell_type": "code",
   "execution_count": 122,
   "id": "7849ca27-7e98-4d43-b9a7-b219d0e2210e",
   "metadata": {},
   "outputs": [
    {
     "name": "stdout",
     "output_type": "stream",
     "text": [
      "split [array([1, 2]), array([3, 4]), array([5, 6])]\n"
     ]
    }
   ],
   "source": [
    "c=np.array([1,2,3,4,5,6])\n",
    "print('split',np.array_split(arr,3))"
   ]
  },
  {
   "cell_type": "code",
   "execution_count": 124,
   "id": "e703fe28-b79c-438a-939a-f46736a73016",
   "metadata": {},
   "outputs": [
    {
     "name": "stdout",
     "output_type": "stream",
     "text": [
      "[10  2  3]\n",
      "[10  2  3]\n"
     ]
    }
   ],
   "source": [
    "arr=np.array([1,2,3])\n",
    "view=arr.view()\n",
    "view[0]=10\n",
    "print(arr)\n"
   ]
  },
  {
   "cell_type": "code",
   "execution_count": 126,
   "id": "77460a7b-a0a0-44d9-9d67-157fbc8b22ca",
   "metadata": {},
   "outputs": [
    {
     "name": "stdout",
     "output_type": "stream",
     "text": [
      "[10  2  3]\n"
     ]
    }
   ],
   "source": [
    "copy=arr.copy()\n",
    "copy[0]=123\n",
    "print(arr)"
   ]
  },
  {
   "cell_type": "code",
   "execution_count": 128,
   "id": "0b566fad-1ab5-4e7f-b48b-0e443ab1b123",
   "metadata": {},
   "outputs": [],
   "source": [
    "arr1=np.array([1,2,3])\n",
    "np.save('array.npy',arr1)"
   ]
  },
  {
   "cell_type": "code",
   "execution_count": 130,
   "id": "aab56fe3-bff9-4dfe-8884-d7cfe17ddd33",
   "metadata": {},
   "outputs": [
    {
     "name": "stdout",
     "output_type": "stream",
     "text": [
      "[1 2 3]\n"
     ]
    }
   ],
   "source": [
    "loaded=np.load('array.npy')\n",
    "print(loaded)"
   ]
  },
  {
   "cell_type": "code",
   "execution_count": null,
   "id": "8b3c12c5-5fa9-403a-a4c6-ef002a8a6d18",
   "metadata": {},
   "outputs": [],
   "source": [
    "'''task:\n",
    "filter the dataset for a specific city(eg.new york) and extract relavant columns.\n",
    "task2:\n",
    "plot the avg (min-max) annual temp trend foe new york (use scatter plot)"
   ]
  }
 ],
 "metadata": {
  "kernelspec": {
   "display_name": "Python [conda env:base] *",
   "language": "python",
   "name": "conda-base-py"
  },
  "language_info": {
   "codemirror_mode": {
    "name": "ipython",
    "version": 3
   },
   "file_extension": ".py",
   "mimetype": "text/x-python",
   "name": "python",
   "nbconvert_exporter": "python",
   "pygments_lexer": "ipython3",
   "version": "3.12.7"
  }
 },
 "nbformat": 4,
 "nbformat_minor": 5
}
