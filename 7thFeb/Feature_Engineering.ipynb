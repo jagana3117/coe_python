{
 "cells": [
  {
   "cell_type": "markdown",
   "id": "e3454672-8d6b-4b7c-9a0a-ab567333a460",
   "metadata": {},
   "source": [
    "**What is Feature Engineering?**\n",
    " \n",
    "            Feature engineering is the process of creating new features or modifying existing ones to improve the performance of machine learning models. It involves techniques like feature extraction, transformation, encoding, and scaling to make data more useful for predictions.\n",
    "  \n",
    "**Why Do We Need Feature Engineering?**\n",
    "\n",
    "1.**Improves Model Performance** – Good features help models make better predictions.\n",
    " \n",
    "2.**Reduces Overfitting** – Helps eliminate noise and irrelevant data.\n",
    " \n",
    "3.**Handles Missing Data** – Creates meaningful replacements for missing values.\n",
    " \n",
    "4.**Enables Better Interpretability** – Makes features more understandable and useful.\n",
    "\n",
    "\n",
    "5.**Reduces Dimensionality** – Helps remove unnecessary data points, making the model efficient.\n",
    "has context menu\n"
   ]
  },
  {
   "cell_type": "code",
   "execution_count": 3,
   "id": "7974b5c9-3bb8-4f3d-ad3e-58673021cc9a",
   "metadata": {},
   "outputs": [
    {
     "name": "stdout",
     "output_type": "stream",
     "text": [
      "      TransactionDate  DayOfWeek  Hour  IsWeekend\n",
      "0 2025-02-05 14:30:00          2    14          0\n",
      "1 2025-02-06 18:45:00          3    18          0\n"
     ]
    }
   ],
   "source": [
    "import pandas as pd\n",
    "df=pd.DataFrame({'TransactionDate':pd.to_datetime(['2025-02-05 14:30:00','2025-02-06 18:45:00'])})\n",
    "df['DayOfWeek']=df['TransactionDate'].dt.dayofweek\n",
    "df['Hour']=df['TransactionDate'].dt.hour\n",
    "df['IsWeekend']=df['DayOfWeek'].apply(lambda x:1 if x>=5 else 0)\n",
    "print(df)"
   ]
  },
  {
   "cell_type": "code",
   "execution_count": 13,
   "id": "1db8db7b-32de-4655-b41d-ae403e11accd",
   "metadata": {},
   "outputs": [
    {
     "name": "stdout",
     "output_type": "stream",
     "text": [
      "   UserID  AvgTransactionAmount\n",
      "0     101                 600.0\n",
      "1     102                 350.0\n",
      "2     103                1000.0\n"
     ]
    }
   ],
   "source": [
    "#Aggretaed features\n",
    "df_transaction=pd.DataFrame({\n",
    "    'UserID':[101,102,101,103,102],\n",
    "    'TransactionAmount':[500,300,700,1000,400]\n",
    "})\n",
    "df_user_avg=df_transaction.groupby('UserID')['TransactionAmount'].mean().reset_index()\n",
    "df_user_avg.rename(columns={'TransactionAmount':'AvgTransactionAmount'},inplace=True)\n",
    "print(df_user_avg)"
   ]
  },
  {
   "cell_type": "code",
   "execution_count": 25,
   "id": "28df46bc-dfdb-4c37-9f7f-dd09acfcb1a9",
   "metadata": {},
   "outputs": [
    {
     "name": "stdout",
     "output_type": "stream",
     "text": [
      "   ProductCategory_Clothing  ProductCategory_Electronics  \\\n",
      "0                       0.0                          1.0   \n",
      "1                       1.0                          0.0   \n",
      "2                       1.0                          0.0   \n",
      "3                       0.0                          0.0   \n",
      "\n",
      "   ProductCategory_Grocery  \n",
      "0                      0.0  \n",
      "1                      0.0  \n",
      "2                      0.0  \n",
      "3                      1.0  \n"
     ]
    }
   ],
   "source": [
    "from sklearn.preprocessing import OneHotEncoder\n",
    "import pandas as pd\n",
    "\n",
    "df = pd.DataFrame({'ProductCategory': ['Electronics', 'Clothing', 'Clothing', 'Grocery']})\n",
    "encoder = OneHotEncoder(sparse_output=False)\n",
    "encoded_features = encoder.fit_transform(df[['ProductCategory']])\n",
    "df_encoded = pd.DataFrame(encoded_features, columns=encoder.get_feature_names_out())\n",
    "print(df_encoded)"
   ]
  },
  {
   "cell_type": "code",
   "execution_count": 68,
   "id": "86aab192-b1ee-40d8-b5f3-639bd28cc76e",
   "metadata": {},
   "outputs": [
    {
     "name": "stdout",
     "output_type": "stream",
     "text": [
      "   TransactionAmount  LogtransactionAmount\n",
      "0                100              4.615121\n",
      "1                200              5.303305\n",
      "2               5000              8.517393\n",
      "3              10000              9.210440\n",
      "4              20000              9.903538\n"
     ]
    }
   ],
   "source": [
    "#log transformationj for skewd Data\n",
    "import numpy as np\n",
    "df=pd.DataFrame({'TransactionAmount':[100,200,5000,10000,20000]})\n",
    "df['LogtransactionAmount']=np.log1p(df['TransactionAmount'])\n",
    "print(df)\n"
   ]
  },
  {
   "cell_type": "code",
   "execution_count": 70,
   "id": "8aa4142f-f193-4480-8039-feaf03c5b4eb",
   "metadata": {},
   "outputs": [
    {
     "name": "stdout",
     "output_type": "stream",
     "text": [
      "   TransactionAmount  LogtransactionAmount  NormalizedTransactionAmount  \\\n",
      "0                100              4.615121                     0.000000   \n",
      "1                200              5.303305                     0.005025   \n",
      "2               5000              8.517393                     0.246231   \n",
      "3              10000              9.210440                     0.497487   \n",
      "4              20000              9.903538                     1.000000   \n",
      "\n",
      "   StandardizedTransactionAmount  \n",
      "0                      -0.937070  \n",
      "1                      -0.923606  \n",
      "2                      -0.277351  \n",
      "3                       0.395831  \n",
      "4                       1.742196  \n"
     ]
    }
   ],
   "source": [
    "\n",
    "\n",
    "# Apply MinMaxScaler to normalize the 'TransactionAmount' column\n",
    "scaler = MinMaxScaler()\n",
    "df['NormalizedTransactionAmount'] = scaler.fit_transform(df[['TransactionAmount']])\n",
    "\n",
    "# Apply StandardScaler to standardize the 'TransactionAmount' column\n",
    "standard_scaler = StandardScaler()\n",
    "df['StandardizedTransactionAmount'] = standard_scaler.fit_transform(df[['TransactionAmount']])\n",
    "\n",
    "# Display the DataFrame with normalized and standardized values\n",
    "print(df)\n"
   ]
  },
  {
   "cell_type": "code",
   "execution_count": null,
   "id": "e803d77e-1089-4098-984f-ca7cae7d9f7a",
   "metadata": {},
   "outputs": [],
   "source": []
  }
 ],
 "metadata": {
  "kernelspec": {
   "display_name": "Python [conda env:base] *",
   "language": "python",
   "name": "conda-base-py"
  },
  "language_info": {
   "codemirror_mode": {
    "name": "ipython",
    "version": 3
   },
   "file_extension": ".py",
   "mimetype": "text/x-python",
   "name": "python",
   "nbconvert_exporter": "python",
   "pygments_lexer": "ipython3",
   "version": "3.12.7"
  }
 },
 "nbformat": 4,
 "nbformat_minor": 5
}
