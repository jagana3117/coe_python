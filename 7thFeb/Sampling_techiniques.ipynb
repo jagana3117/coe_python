{
 "cells": [
  {
   "cell_type": "markdown",
   "id": "c76b34cb-f00c-4e7d-a9cb-81fdd6f17060",
   "metadata": {},
   "source": [
    "## Balancing dataset with downsampling:\n",
    "    to balance the dataset we use sampling "
   ]
  },
  {
   "cell_type": "code",
   "execution_count": 9,
   "id": "1cb36eaa-837c-473c-a1fe-84d2aca4449d",
   "metadata": {},
   "outputs": [],
   "source": [
    "import pandas as pd\n",
    "from sklearn.utils import resample\n",
    "df=pd.DataFrame({\n",
    "'Age': [22,25,27,28,30,35,40,45,50,55,60,65,70],\n",
    "'Income':[2000,2500,2700,3200,3500,3800,4000,4200,4300,4500,5000,5500,6000],\n",
    "'Class':['High','Low','Low','High','High','Low','High','High','Low','Low','High','High','Low']\n",
    "})"
   ]
  },
  {
   "cell_type": "code",
   "execution_count": 33,
   "id": "dec32f1a-efbf-4692-9c01-4920211a9765",
   "metadata": {},
   "outputs": [
    {
     "name": "stdout",
     "output_type": "stream",
     "text": [
      "    Age  Income Class\n",
      "0    22    2000  High\n",
      "3    28    3200  High\n",
      "4    30    3500  High\n",
      "6    40    4000  High\n",
      "7    45    4200  High\n",
      "10   60    5000  High\n",
      "11   65    5500  High\n",
      "\n",
      "\n",
      "    Age  Income Class\n",
      "1    25    2500   Low\n",
      "2    27    2700   Low\n",
      "5    35    3800   Low\n",
      "8    50    4300   Low\n",
      "9    55    4500   Low\n",
      "12   70    6000   Low\n"
     ]
    }
   ],
   "source": [
    "df_high=df[df['Class']=='High']\n",
    "df_low=df[df['Class']=='Low']\n",
    "print(df_high)\n",
    "print('\\n')\n",
    "print(df_low)\n"
   ]
  },
  {
   "cell_type": "code",
   "execution_count": 19,
   "id": "1af3c0f6-1db0-4661-908b-fff0ee8ed354",
   "metadata": {},
   "outputs": [],
   "source": [
    "#down sample majority class\n",
    "df_high_downsample=resample(df_high,replace=False,n_samples=len(df_low),random_state=42)"
   ]
  },
  {
   "cell_type": "code",
   "execution_count": 39,
   "id": "ade0de6a-02d0-4013-86b2-1dbc5cd336c1",
   "metadata": {},
   "outputs": [
    {
     "data": {
      "text/html": [
       "<div>\n",
       "<style scoped>\n",
       "    .dataframe tbody tr th:only-of-type {\n",
       "        vertical-align: middle;\n",
       "    }\n",
       "\n",
       "    .dataframe tbody tr th {\n",
       "        vertical-align: top;\n",
       "    }\n",
       "\n",
       "    .dataframe thead th {\n",
       "        text-align: right;\n",
       "    }\n",
       "</style>\n",
       "<table border=\"1\" class=\"dataframe\">\n",
       "  <thead>\n",
       "    <tr style=\"text-align: right;\">\n",
       "      <th></th>\n",
       "      <th>Age</th>\n",
       "      <th>Income</th>\n",
       "      <th>Class</th>\n",
       "    </tr>\n",
       "  </thead>\n",
       "  <tbody>\n",
       "    <tr>\n",
       "      <th>0</th>\n",
       "      <td>22</td>\n",
       "      <td>2000</td>\n",
       "      <td>High</td>\n",
       "    </tr>\n",
       "    <tr>\n",
       "      <th>3</th>\n",
       "      <td>28</td>\n",
       "      <td>3200</td>\n",
       "      <td>High</td>\n",
       "    </tr>\n",
       "    <tr>\n",
       "      <th>10</th>\n",
       "      <td>60</td>\n",
       "      <td>5000</td>\n",
       "      <td>High</td>\n",
       "    </tr>\n",
       "    <tr>\n",
       "      <th>4</th>\n",
       "      <td>30</td>\n",
       "      <td>3500</td>\n",
       "      <td>High</td>\n",
       "    </tr>\n",
       "    <tr>\n",
       "      <th>7</th>\n",
       "      <td>45</td>\n",
       "      <td>4200</td>\n",
       "      <td>High</td>\n",
       "    </tr>\n",
       "    <tr>\n",
       "      <th>6</th>\n",
       "      <td>40</td>\n",
       "      <td>4000</td>\n",
       "      <td>High</td>\n",
       "    </tr>\n",
       "    <tr>\n",
       "      <th>1</th>\n",
       "      <td>25</td>\n",
       "      <td>2500</td>\n",
       "      <td>Low</td>\n",
       "    </tr>\n",
       "    <tr>\n",
       "      <th>2</th>\n",
       "      <td>27</td>\n",
       "      <td>2700</td>\n",
       "      <td>Low</td>\n",
       "    </tr>\n",
       "    <tr>\n",
       "      <th>5</th>\n",
       "      <td>35</td>\n",
       "      <td>3800</td>\n",
       "      <td>Low</td>\n",
       "    </tr>\n",
       "    <tr>\n",
       "      <th>8</th>\n",
       "      <td>50</td>\n",
       "      <td>4300</td>\n",
       "      <td>Low</td>\n",
       "    </tr>\n",
       "    <tr>\n",
       "      <th>9</th>\n",
       "      <td>55</td>\n",
       "      <td>4500</td>\n",
       "      <td>Low</td>\n",
       "    </tr>\n",
       "    <tr>\n",
       "      <th>12</th>\n",
       "      <td>70</td>\n",
       "      <td>6000</td>\n",
       "      <td>Low</td>\n",
       "    </tr>\n",
       "  </tbody>\n",
       "</table>\n",
       "</div>"
      ],
      "text/plain": [
       "    Age  Income Class\n",
       "0    22    2000  High\n",
       "3    28    3200  High\n",
       "10   60    5000  High\n",
       "4    30    3500  High\n",
       "7    45    4200  High\n",
       "6    40    4000  High\n",
       "1    25    2500   Low\n",
       "2    27    2700   Low\n",
       "5    35    3800   Low\n",
       "8    50    4300   Low\n",
       "9    55    4500   Low\n",
       "12   70    6000   Low"
      ]
     },
     "execution_count": 39,
     "metadata": {},
     "output_type": "execute_result"
    }
   ],
   "source": [
    "df_balanced=pd.concat([df_high_downsample,df_low])\n",
    "df_balanced"
   ]
  },
  {
   "cell_type": "code",
   "execution_count": 37,
   "id": "cdc2d460-4c03-4335-8ad7-67f106dbc160",
   "metadata": {},
   "outputs": [
    {
     "data": {
      "text/plain": [
       "Class\n",
       "High    6\n",
       "Low     6\n",
       "Name: count, dtype: int64"
      ]
     },
     "execution_count": 37,
     "metadata": {},
     "output_type": "execute_result"
    }
   ],
   "source": [
    "df_balanced['Class'].value_counts()"
   ]
  },
  {
   "cell_type": "markdown",
   "id": "e1193505-1e2e-42e9-8374-6621aae35ef4",
   "metadata": {},
   "source": [
    "## UPSAMPLING MINORITY CLASS"
   ]
  },
  {
   "cell_type": "code",
   "execution_count": 73,
   "id": "49155c4c-d073-42f1-ac52-ffb4c2ee3b71",
   "metadata": {},
   "outputs": [],
   "source": [
    "df=pd.DataFrame({\n",
    "'Age': [22,25,27,28,30,35,40,45,50,55,60,65,70],\n",
    "'Income':[2000,2500,2700,3200,3500,3800,4000,4200,4300,4500,5000,5500,6000],\n",
    "'Class':['minority','majority','majority','majority','majority','minority','minority','minority','majority','majority','majority','majority','majority']\n",
    "})"
   ]
  },
  {
   "cell_type": "code",
   "execution_count": 75,
   "id": "e3cd259f-ba45-460d-a682-9da72137d8c1",
   "metadata": {},
   "outputs": [
    {
     "data": {
      "text/plain": [
       "Class\n",
       "majority    9\n",
       "minority    4\n",
       "Name: count, dtype: int64"
      ]
     },
     "execution_count": 75,
     "metadata": {},
     "output_type": "execute_result"
    }
   ],
   "source": [
    "df_minority=df[df['Class']=='minority']\n",
    "df_majority=df[df['Class']=='majority']\n",
    "df2['Class'].value_counts()"
   ]
  },
  {
   "cell_type": "code",
   "execution_count": 77,
   "id": "f5c2aa26-0527-47d9-b54a-a71952f5395d",
   "metadata": {},
   "outputs": [],
   "source": [
    "df_minority_upsampling=resample(df_minority,replace=True,n_samples=len(df_majority),random_state=42)"
   ]
  },
  {
   "cell_type": "code",
   "execution_count": 81,
   "id": "e5e31f9a-2320-409d-8594-6ca86e3d8354",
   "metadata": {},
   "outputs": [],
   "source": [
    "df_balanced=pd.concat([df_majority,df_minority_upsampling])\n"
   ]
  },
  {
   "cell_type": "code",
   "execution_count": 83,
   "id": "b023ad68-a259-4016-976b-d0be82542907",
   "metadata": {},
   "outputs": [
    {
     "data": {
      "text/plain": [
       "Class\n",
       "majority    9\n",
       "minority    9\n",
       "Name: count, dtype: int64"
      ]
     },
     "execution_count": 83,
     "metadata": {},
     "output_type": "execute_result"
    }
   ],
   "source": [
    "df_balanced['Class'].value_counts()"
   ]
  },
  {
   "cell_type": "code",
   "execution_count": 88,
   "id": "42b6fc3c-60db-4927-9434-019adfbc89d5",
   "metadata": {},
   "outputs": [
    {
     "data": {
      "text/plain": [
       "1     majority\n",
       "2     majority\n",
       "3     majority\n",
       "4     majority\n",
       "8     majority\n",
       "9     majority\n",
       "10    majority\n",
       "11    majority\n",
       "12    majority\n",
       "6     minority\n",
       "7     minority\n",
       "0     minority\n",
       "6     minority\n",
       "6     minority\n",
       "7     minority\n",
       "0     minority\n",
       "0     minority\n",
       "6     minority\n",
       "Name: Class, dtype: object"
      ]
     },
     "execution_count": 88,
     "metadata": {},
     "output_type": "execute_result"
    }
   ],
   "source": [
    "df_balanced['Class']"
   ]
  },
  {
   "cell_type": "markdown",
   "id": "4b0787de-0c45-4661-8d7e-1b182bc4a814",
   "metadata": {},
   "source": [
    "## SMOTE:\n",
    "**Synthetic Minority Over-Sampling Techniques**\n",
    "\n",
    "1.it will generate own samples instead of duplicating existing ones\n",
    "\n",
    "2.here we will convert categorical values into numeric\n",
    "\n",
    "3.alpply SMOTE to balnace the dataset.\n",
    "\n",
    "4.convert back to categorical labels.\n",
    "\n",
    "5.balanced dataset is created.\n",
    "\n",
    "\n"
   ]
  },
  {
   "cell_type": "code",
   "execution_count": 96,
   "id": "c5de0490-97d8-4964-ae3a-e727793b1cc2",
   "metadata": {},
   "outputs": [
    {
     "name": "stdout",
     "output_type": "stream",
     "text": [
      "Requirement already satisfied: imbalanced-learn in c:\\users\\proxy1\\anaconda3\\lib\\site-packages (0.12.3)\n",
      "Requirement already satisfied: numpy>=1.17.3 in c:\\users\\proxy1\\anaconda3\\lib\\site-packages (from imbalanced-learn) (1.26.4)\n",
      "Requirement already satisfied: scipy>=1.5.0 in c:\\users\\proxy1\\anaconda3\\lib\\site-packages (from imbalanced-learn) (1.13.1)\n",
      "Requirement already satisfied: scikit-learn>=1.0.2 in c:\\users\\proxy1\\anaconda3\\lib\\site-packages (from imbalanced-learn) (1.5.1)\n",
      "Requirement already satisfied: joblib>=1.1.1 in c:\\users\\proxy1\\anaconda3\\lib\\site-packages (from imbalanced-learn) (1.4.2)\n",
      "Requirement already satisfied: threadpoolctl>=2.0.0 in c:\\users\\proxy1\\anaconda3\\lib\\site-packages (from imbalanced-learn) (3.5.0)\n",
      "Note: you may need to restart the kernel to use updated packages.\n"
     ]
    }
   ],
   "source": [
    "pip install imbalanced-learn"
   ]
  },
  {
   "cell_type": "code",
   "execution_count": 135,
   "id": "8e2378fe-1dc8-4952-97f9-90739982b978",
   "metadata": {},
   "outputs": [
    {
     "name": "stdout",
     "output_type": "stream",
     "text": [
      "Class\n",
      "1    9\n",
      "0    9\n",
      "Name: count, dtype: int64\n",
      "    Age  Income  Class\n",
      "0    22    2000      1\n",
      "1    25    2500      0\n",
      "2    27    2700      0\n",
      "3    28    3200      0\n",
      "4    30    3500      0\n",
      "5    35    3800      1\n",
      "6    40    4000      1\n",
      "7    45    4200      1\n",
      "8    50    4300      0\n",
      "9    55    4500      0\n",
      "10   60    5000      0\n",
      "11   65    5500      0\n",
      "12   70    6000      0\n",
      "13   40    4031      1\n",
      "14   35    3831      1\n",
      "15   44    4176      1\n",
      "16   35    3826      1\n",
      "17   41    4040      1\n"
     ]
    }
   ],
   "source": [
    "import pandas as pd\n",
    "from imblearn.over_sampling import SMOTE\n",
    "\n",
    "df = pd.DataFrame({\n",
    "    'Age': [22, 25, 27, 28, 30, 35, 40, 45, 50, 55, 60, 65, 70],\n",
    "    'Income': [2000, 2500, 2700, 3200, 3500, 3800, 4000, 4200, 4300, 4500, 5000, 5500, 6000],\n",
    "    'Class': ['Minority', 'Majority', 'Majority', 'Majority', 'Majority', 'Minority', 'Minority', 'Minority', 'Majority',  'Majority', 'Majority', 'Majority', 'Majority']\n",
    "})\n",
    "df['Class'].value_counts()\n",
    "df['Class'] = df['Class'].map({'Majority': 0, 'Minority': 1})\n",
    "X = df[['Age', 'Income']]\n",
    "y = df['Class']\n",
    "smote = SMOTE(sampling_strategy='auto', random_state=42, k_neighbors=3)\n",
    "X_resampled, y_resampled = smote.fit_resample(X, y)\n",
    "X_resampled,y_resampled.map({'Majority': 0, 'Minority': 1})\n",
    "df_balanced = pd.concat([pd.DataFrame(X_resampled, columns=['Age', 'Income']), pd.DataFrame(y_resampled, columns=['Class'])], axis=1)\n",
    "print(df_balanced['Class'].value_counts())\n",
    "print(df_balanced)"
   ]
  },
  {
   "cell_type": "code",
   "execution_count": null,
   "id": "53e9c194-3e7b-4fc3-9125-48492bade2a8",
   "metadata": {},
   "outputs": [],
   "source": []
  }
 ],
 "metadata": {
  "kernelspec": {
   "display_name": "Python [conda env:base] *",
   "language": "python",
   "name": "conda-base-py"
  },
  "language_info": {
   "codemirror_mode": {
    "name": "ipython",
    "version": 3
   },
   "file_extension": ".py",
   "mimetype": "text/x-python",
   "name": "python",
   "nbconvert_exporter": "python",
   "pygments_lexer": "ipython3",
   "version": "3.12.7"
  }
 },
 "nbformat": 4,
 "nbformat_minor": 5
}
