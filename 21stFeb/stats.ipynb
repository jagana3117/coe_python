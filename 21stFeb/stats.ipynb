{
 "cells": [
  {
   "cell_type": "markdown",
   "id": "4cd4c7c9-0145-4742-a9ea-bfdaf42372f4",
   "metadata": {},
   "source": [
    "### Stats\n",
    "\n",
    "\n",
    "Stastics is used to collect,organise ,analyse the data.We can also procast the data.\n",
    "\n",
    "**Types:**\n",
    "\n",
    "\n",
    "1.**Descriptive:** organising summarizing(mean.median.mode)\n",
    "\n",
    "2.**Inferential:** collect data and conclusion is given(Hypothesis)\n",
    "\n",
    "\n",
    "\n"
   ]
  },
  {
   "cell_type": "markdown",
   "id": "89edd1fd-25ec-47f5-8cda-419294d79b24",
   "metadata": {},
   "source": [
    "**Variable**\n",
    "\n",
    "\n",
    "->Qunatitative variable\n",
    "* discrete quantitative\n",
    "* contineous quantitative\n",
    "\n",
    "->Qualitative variable\n",
    "* categorical\n",
    "\n",
    "**random Variable**\n",
    "\n",
    "\n",
    "  -based on experiment the variables are considered\n",
    "\n",
    "\n",
    "  \n",
    "* discrete quantitative: tossing a coin and rolling a dice\n",
    "\n",
    "\n",
    "* contineous quantitative:heights,how much rain falls\n",
    "\n",
    "\n",
    "**Histograms**\n",
    "\n",
    "\n",
    "  representation of the distribution of a dataset\n",
    "  "
   ]
  },
  {
   "cell_type": "markdown",
   "id": "cb04b38f-6ddc-4545-973e-157306a84384",
   "metadata": {},
   "source": [
    "**Covariance and Corelation**\n",
    "<br>\n",
    "to determine the realtionship between two variables.<br>\n",
    "covariance->+ve or -ve\n"
   ]
  },
  {
   "cell_type": "markdown",
   "id": "6a0c6cb2-7e0f-4b17-9495-6d86b3f4e88d",
   "metadata": {},
   "source": [
    "**Probability**<br>\n",
    "* Mutually exclusive events:not happened same time<br>\n",
    "* non mutual exclusive events:occured same time.\n",
    "* Independent event: does not effect others\n",
    "* Dependent event:does impact others like cards\n",
    "\n",
    "**Addition**<br>\n",
    "  we write head or tail like any one<br>\n",
    "**Multilplication**<br>\n",
    "  we write both the probabilities<br>\n",
    "  \n"
   ]
  },
  {
   "cell_type": "markdown",
   "id": "4ee78a7b-1939-4759-9047-2ff0e721f4e9",
   "metadata": {},
   "source": [
    "**Probability Distribution**\n"
   ]
  },
  {
   "cell_type": "code",
   "execution_count": null,
   "id": "d8d09356-9dd4-4e81-9652-14b508ce2eab",
   "metadata": {},
   "outputs": [],
   "source": []
  }
 ],
 "metadata": {
  "kernelspec": {
   "display_name": "Python [conda env:base] *",
   "language": "python",
   "name": "conda-base-py"
  },
  "language_info": {
   "codemirror_mode": {
    "name": "ipython",
    "version": 3
   },
   "file_extension": ".py",
   "mimetype": "text/x-python",
   "name": "python",
   "nbconvert_exporter": "python",
   "pygments_lexer": "ipython3",
   "version": "3.12.7"
  }
 },
 "nbformat": 4,
 "nbformat_minor": 5
}
